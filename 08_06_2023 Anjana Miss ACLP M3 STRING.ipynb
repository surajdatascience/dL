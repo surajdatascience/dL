{
 "cells": [
  {
   "cell_type": "markdown",
   "id": "46953dcb",
   "metadata": {},
   "source": [
    "#### crosstab"
   ]
  },
  {
   "cell_type": "markdown",
   "id": "1e5c1958",
   "metadata": {},
   "source": [
    "##### pd.crosstab(  index, columns,  values=None,  rownames=None,  colnames=None,  aggfunc=None,  margins=False,    margins_name=’All’, dropna=True, normalize=False)"
   ]
  },
  {
   "cell_type": "code",
   "execution_count": 3,
   "id": "1e814692",
   "metadata": {},
   "outputs": [],
   "source": [
    "import numpy as np"
   ]
  },
  {
   "cell_type": "markdown",
   "id": "1d2ea7c0",
   "metadata": {},
   "source": [
    "Arguments :\n",
    "\n",
    "index : array-like, Series, or list of arrays/Series, Values to group by in the rows.\n",
    "columns : array-like, Series, or list of arrays/Series, Values to group by in the columns.\n",
    "values : array-like, optional, array of values to aggregate according to the factors. Requires `aggfunc` be specified.\n",
    "rownames : sequence, default None, If passed, must match number of row arrays passed.\n",
    "colnames : sequence, default None, If passed, must match number of column arrays passed.\n",
    "aggfunc : function, optional, If specified, requires `values` be specified as well.\n",
    "margins : bool, default False, Add row/column margins (subtotals).\n",
    "margins_name : str, default ‘All’, Name of the row/column that will contain the totals when margins is True.\n",
    "dropna : bool, default True, Do not include columns whose entries are all NaN."
   ]
  },
  {
   "cell_type": "code",
   "execution_count": 4,
   "id": "6cdfe427",
   "metadata": {},
   "outputs": [],
   "source": [
    "a = np.array([\"foo\", \"foo\", \"foo\", \"foo\",\n",
    "                 \"bar\", \"bar\", \"bar\", \"bar\",\n",
    "                 \"foo\", \"foo\", \"foo\"],\n",
    "                dtype=object)\n",
    "  \n"
   ]
  },
  {
   "cell_type": "code",
   "execution_count": 36,
   "id": "2828030e",
   "metadata": {},
   "outputs": [
    {
     "ename": "NameError",
     "evalue": "name 'pandas' is not defined",
     "output_type": "error",
     "traceback": [
      "\u001b[1;31m---------------------------------------------------------------------------\u001b[0m",
      "\u001b[1;31mNameError\u001b[0m                                 Traceback (most recent call last)",
      "\u001b[1;32m~\\AppData\\Local\\Temp\\ipykernel_4692\\4055356221.py\u001b[0m in \u001b[0;36m<module>\u001b[1;34m\u001b[0m\n\u001b[1;32m----> 1\u001b[1;33m \u001b[0mpandas\u001b[0m\u001b[1;33m.\u001b[0m\u001b[0mcrosstab\u001b[0m\u001b[1;33m(\u001b[0m\u001b[0ma\u001b[0m\u001b[1;33m,\u001b[0m \u001b[1;33m[\u001b[0m\u001b[0mb\u001b[0m\u001b[1;33m,\u001b[0m \u001b[0mc\u001b[0m\u001b[1;33m]\u001b[0m\u001b[1;33m,\u001b[0m \u001b[0mrownames\u001b[0m\u001b[1;33m=\u001b[0m\u001b[1;33m[\u001b[0m\u001b[1;34m'a'\u001b[0m\u001b[1;33m]\u001b[0m\u001b[1;33m,\u001b[0m \u001b[0mcolnames\u001b[0m\u001b[1;33m=\u001b[0m\u001b[1;33m[\u001b[0m\u001b[1;34m'b'\u001b[0m\u001b[1;33m,\u001b[0m \u001b[1;34m'c'\u001b[0m\u001b[1;33m]\u001b[0m\u001b[1;33m)\u001b[0m\u001b[1;33m\u001b[0m\u001b[1;33m\u001b[0m\u001b[0m\n\u001b[0m",
      "\u001b[1;31mNameError\u001b[0m: name 'pandas' is not defined"
     ]
    }
   ],
   "source": [
    "pandas.crosstab(a, [b, c], rownames=['a'], colnames=['b', 'c'])"
   ]
  },
  {
   "cell_type": "code",
   "execution_count": null,
   "id": "e4c14be7",
   "metadata": {},
   "outputs": [],
   "source": []
  }
 ],
 "metadata": {
  "kernelspec": {
   "display_name": "Python 3 (ipykernel)",
   "language": "python",
   "name": "python3"
  },
  "language_info": {
   "codemirror_mode": {
    "name": "ipython",
    "version": 3
   },
   "file_extension": ".py",
   "mimetype": "text/x-python",
   "name": "python",
   "nbconvert_exporter": "python",
   "pygments_lexer": "ipython3",
   "version": "3.9.13"
  }
 },
 "nbformat": 4,
 "nbformat_minor": 5
}
