{
 "cells": [
  {
   "cell_type": "markdown",
   "id": "e16425a2",
   "metadata": {},
   "source": [
    "#### 1.\n",
    "WRITE A PYTHON PROGRAM TO ADD TWO MATRICES USING NESTED FOR LOOP\n",
    "X=[[1,2,3], [4,5,6], [2,4,6]]\n",
    "Y=[[1,4,5], [3,6,9], [2,3,5]]"
   ]
  },
  {
   "cell_type": "code",
   "execution_count": null,
   "id": "bbfcf901",
   "metadata": {},
   "outputs": [],
   "source": [
    "X=[[1,2,3], [4,5,6], [2,4,6]] \n",
    "Y=[[1,4,5], [3,6,9], [2,3,5]]\n",
    "Sum=[[0,0,0], [0,0,0], [0,0,0]]"
   ]
  },
  {
   "cell_type": "code",
   "execution_count": null,
   "id": "ba254aca",
   "metadata": {},
   "outputs": [],
   "source": [
    "for i in range(len(X)): #0 1 2\n",
    "     for j in range(len(X[2])): # 0 1 2 3\n",
    "        Sum[i][j] = X[i][j] + Y[i][j]"
   ]
  },
  {
   "cell_type": "code",
   "execution_count": null,
   "id": "fe1cfa20",
   "metadata": {
    "scrolled": false
   },
   "outputs": [],
   "source": [
    "Sum"
   ]
  },
  {
   "cell_type": "markdown",
   "id": "c7eb9e0a",
   "metadata": {},
   "source": [
    "#### 2.WRITE A PYTHON PROGRAM TO TRANSPOSE TWO MATRICES USING NESTED FORLOOP\n",
    "X=[[1,4,7], [2,3,5], [2,4,6]]\n",
    "Y=[[1,4,5], [3,6,9], [2,3,5]]"
   ]
  },
  {
   "cell_type": "code",
   "execution_count": null,
   "id": "de910e55",
   "metadata": {},
   "outputs": [],
   "source": [
    "X=[[1,4,7], [2,3,5], [2,4,6]]\n",
    "Y=[[1,4,5], [3,6,9], [2,3,5]]\n",
    "\n",
    "TransposeX=[[0,0,0], [0,0,0], [0,0,0]]\n",
    "TransposeY=[[0,0,0], [0,0,0], [0,0,0]]\n",
    "\n",
    "for i in range(len(X)):\n",
    "    for j in range(len(X[0])):\n",
    "        TransposeX[j][i]=X[i][j]\n",
    "        \n",
    "for i in range(len(Y)):\n",
    "    for j in range(len(Y[0])):\n",
    "        TransposeY[j][i]=Y[i][j]\n",
    "print(\"Transpose of X\")\n",
    "for k in TransposeX:\n",
    "        print(k)\n",
    "print(\"Transpose of Y\")\n",
    "for k in TransposeY:\n",
    "        print(k)"
   ]
  },
  {
   "cell_type": "markdown",
   "id": "12d27c1c",
   "metadata": {},
   "source": [
    "#### 3. WRITE A PYTHON PROGRAM TO MULTIPLY TWO MATRICES USING NESTED FORLOOP"
   ]
  },
  {
   "cell_type": "code",
   "execution_count": null,
   "id": "9340b788",
   "metadata": {
    "scrolled": true
   },
   "outputs": [],
   "source": [
    "X=[[1,2,3], [4,5,6], [2,4,6]]\n",
    "Y=[[1,4,5,2], [3,6,9,5], [2,3,5,1]]\n",
    "\n",
    "pdt = [[0, 0, 0],[0, 0, 0],[0, 0, 0]]  \n",
    "for m in range(len(X)):    \n",
    "       for n in range(len(Y)): \n",
    "            for o in range(len(Y)):   \n",
    "            \n",
    "                pdt[m][n] += X[m][o] * Y[o][n]    \n",
    "                  \n",
    "for rows in pdt:    \n",
    "   print(rows)  \n"
   ]
  },
  {
   "cell_type": "markdown",
   "id": "9f1acd32",
   "metadata": {},
   "source": [
    "#### Python program to convert the temperature in degree centigrade to Fahrenheit"
   ]
  },
  {
   "cell_type": "code",
   "execution_count": null,
   "id": "996919ef",
   "metadata": {},
   "outputs": [],
   "source": [
    "def conv(C):\n",
    "    F=(C*9/5)+32\n",
    "    return F\n",
    "\n",
    "C=float(input(\"Enter Temp in C\"))\n",
    "F=conv(C)\n",
    "print(\"Temp in F is\", F)"
   ]
  },
  {
   "cell_type": "markdown",
   "id": "13f587df",
   "metadata": {},
   "source": [
    "#### Python program to find the sum of the digits of an integer using a while loop"
   ]
  },
  {
   "cell_type": "code",
   "execution_count": null,
   "id": "b8adb55a",
   "metadata": {},
   "outputs": [],
   "source": [
    "n=int(input(\"Enter a number:\"))\n",
    "\n",
    "Sum=0\n",
    "\n",
    "while(n>0):\n",
    "    rem=n%10 \n",
    "    Sum=Sum+rem\n",
    "    n=n//10\n",
    "    \n",
    "    \n",
    "print(\"The total sum of digits is:\",Sum)"
   ]
  },
  {
   "cell_type": "markdown",
   "id": "298bc13c",
   "metadata": {},
   "source": [
    "#### Rock Paper Scissor Game"
   ]
  },
  {
   "cell_type": "code",
   "execution_count": null,
   "id": "736a57bf",
   "metadata": {},
   "outputs": [],
   "source": [
    "def determine_winner(player1, player2):\n",
    "    if player1 == player2:\n",
    "        return \"It's a tie!\"\n",
    "    elif (player1 == 'rock' and player2 == 'scissors') or \\\n",
    "         (player1 == 'scissors' and player2 == 'paper') or \\\n",
    "         (player1 == 'paper' and player2 == 'rock'):\n",
    "        return \"Player 1 wins! Congratulations to the winner\"\n",
    "    else:\n",
    "        return \"Player 2 wins! Congratulations to the winner\"\n",
    "\n",
    "def play_again():\n",
    "    response = input(\"Do you want to play again? (yes/no): \")\n",
    "    return response.lower() == 'yes'\n",
    "\n",
    "while True:\n",
    "   \n",
    "    player1_move = input(\"Player 1, enter your move (rock/paper/scissors): \")\n",
    "    player2_move = input(\"Player 2, enter your move (rock/paper/scissors): \")\n",
    "\n",
    "   \n",
    "    winner = determine_winner(player1_move, player2_move)\n",
    "\n",
    "\n",
    "    print(winner)\n",
    "\n",
    " \n",
    "    if not play_again():\n",
    "        break"
   ]
  },
  {
   "cell_type": "code",
   "execution_count": null,
   "id": "b900dd0c",
   "metadata": {},
   "outputs": [],
   "source": []
  }
 ],
 "metadata": {
  "kernelspec": {
   "display_name": "Python 3 (ipykernel)",
   "language": "python",
   "name": "python3"
  },
  "language_info": {
   "codemirror_mode": {
    "name": "ipython",
    "version": 3
   },
   "file_extension": ".py",
   "mimetype": "text/x-python",
   "name": "python",
   "nbconvert_exporter": "python",
   "pygments_lexer": "ipython3",
   "version": "3.9.13"
  }
 },
 "nbformat": 4,
 "nbformat_minor": 5
}
