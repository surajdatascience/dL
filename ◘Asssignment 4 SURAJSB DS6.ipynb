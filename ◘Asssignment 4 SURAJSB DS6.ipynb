{
 "cells": [
  {
   "cell_type": "markdown",
   "id": "0d471d51",
   "metadata": {},
   "source": [
    "1.\tWrite a Python function to sum all the numbers in a list.\n",
    "Sample List : (8, 2, 3, 0, 7)\n"
   ]
  },
  {
   "cell_type": "code",
   "execution_count": 1,
   "id": "b3d4e51a",
   "metadata": {},
   "outputs": [
    {
     "name": "stdout",
     "output_type": "stream",
     "text": [
      "20\n"
     ]
    }
   ],
   "source": [
    "def sum(numbers):\n",
    "    total = 0\n",
    "    for i in numbers:\n",
    "        total += i\n",
    "    return total   \n",
    "\n",
    "print(sum((8, 2, 3, 0, 7)))\n"
   ]
  },
  {
   "cell_type": "markdown",
   "id": "f9d2a41c",
   "metadata": {},
   "source": [
    "2.\tWrite a Python function to multiply all the numbers in a list.\n",
    "Sample List : (8, 2, 3, -1, 7)"
   ]
  },
  {
   "cell_type": "code",
   "execution_count": 2,
   "id": "e9e373f5",
   "metadata": {},
   "outputs": [
    {
     "name": "stdout",
     "output_type": "stream",
     "text": [
      "enter list8 8 8\n"
     ]
    }
   ],
   "source": [
    "L2=list((input(\"enter list\")))"
   ]
  },
  {
   "cell_type": "code",
   "execution_count": 3,
   "id": "e0475d38",
   "metadata": {},
   "outputs": [
    {
     "data": {
      "text/plain": [
       "['8', ' ', '8', ' ', '8']"
      ]
     },
     "execution_count": 3,
     "metadata": {},
     "output_type": "execute_result"
    }
   ],
   "source": [
    "L2"
   ]
  },
  {
   "cell_type": "code",
   "execution_count": 4,
   "id": "311f82c5",
   "metadata": {},
   "outputs": [
    {
     "name": "stdout",
     "output_type": "stream",
     "text": [
      "-336\n"
     ]
    }
   ],
   "source": [
    "def multiply(numbers):  \n",
    "    total = 1\n",
    "    for x in numbers:\n",
    "        total *= x  \n",
    "    return total  \n",
    "print(multiply((8, 2, 3, -1, 7)))"
   ]
  },
  {
   "cell_type": "markdown",
   "id": "0de3e9d6",
   "metadata": {},
   "source": [
    "3.\tWrite a Python function to calculate the factorial of a number (a non-negative integer). The function accepts the number as an argument."
   ]
  },
  {
   "cell_type": "code",
   "execution_count": 5,
   "id": "1e173236",
   "metadata": {},
   "outputs": [
    {
     "ename": "NameError",
     "evalue": "name 'n' is not defined",
     "output_type": "error",
     "traceback": [
      "\u001b[1;31m---------------------------------------------------------------------------\u001b[0m",
      "\u001b[1;31mNameError\u001b[0m                                 Traceback (most recent call last)",
      "\u001b[1;32m~\\AppData\\Local\\Temp\\ipykernel_4496\\705039956.py\u001b[0m in \u001b[0;36m<module>\u001b[1;34m\u001b[0m\n\u001b[0;32m      8\u001b[0m \u001b[1;33m\u001b[0m\u001b[0m\n\u001b[0;32m      9\u001b[0m     \u001b[0mn\u001b[0m\u001b[1;33m=\u001b[0m\u001b[0mint\u001b[0m\u001b[1;33m(\u001b[0m\u001b[0minput\u001b[0m\u001b[1;33m(\u001b[0m\u001b[1;34m\"Input a number to compute the factiorial : \"\u001b[0m\u001b[1;33m)\u001b[0m\u001b[1;33m)\u001b[0m\u001b[1;33m\u001b[0m\u001b[1;33m\u001b[0m\u001b[0m\n\u001b[1;32m---> 10\u001b[1;33m \u001b[0mprint\u001b[0m\u001b[1;33m(\u001b[0m\u001b[0mfactorial\u001b[0m\u001b[1;33m(\u001b[0m\u001b[0mn\u001b[0m\u001b[1;33m)\u001b[0m\u001b[1;33m)\u001b[0m\u001b[1;33m\u001b[0m\u001b[1;33m\u001b[0m\u001b[0m\n\u001b[0m",
      "\u001b[1;31mNameError\u001b[0m: name 'n' is not defined"
     ]
    }
   ],
   "source": [
    "def factorial(n):\n",
    "    if n == 0:\n",
    "        return 1\n",
    "    \n",
    "    else:\n",
    "        return n * factorial(n-1)  \n",
    "\n",
    "    \n",
    "    n=int(input(\"Input a number to compute the factiorial : \"))\n",
    "print(factorial(n))"
   ]
  },
  {
   "cell_type": "markdown",
   "id": "4b11843f",
   "metadata": {},
   "source": [
    "4.\tWrite a Python function to check whether a number falls within a given range."
   ]
  },
  {
   "cell_type": "code",
   "execution_count": null,
   "id": "2b18865b",
   "metadata": {},
   "outputs": [],
   "source": [
    "def isinrange(n):\n",
    "    \n",
    "    \n",
    "    if n in range(1,101):\n",
    "        print(\"yes it is in range\" )\n",
    "    else:\n",
    "        print(\"not in range\" )\n",
    "\n",
    "n=int(input(\"enter no\"))\n",
    "test_range(n)"
   ]
  },
  {
   "cell_type": "markdown",
   "id": "4d13deaa",
   "metadata": {},
   "source": [
    "5.\tWrite a Python function that accepts a string and counts the number of upper and lower case letters.\n",
    "Sample String : 'The quick Brow Fox'"
   ]
  },
  {
   "cell_type": "code",
   "execution_count": null,
   "id": "4876c035",
   "metadata": {
    "scrolled": true
   },
   "outputs": [],
   "source": [
    "def upperlower(str1):\n",
    "    d={\"UPPER\":0, \"LOWER\":0}\n",
    "    for i in str1:\n",
    "        if i.isupper():\n",
    "           d[\"UPPER\"]+=1\n",
    "        elif i.islower():\n",
    "           d[\"LOWER\"]+=1\n",
    "        else:\n",
    "           pass\n",
    "    print (\"Lower case Characters : \", d[\"LOWER\"])\n",
    "         \n",
    "    print (\"UPPER case Characters : \", d[\"UPPER\"])\n",
    "\n",
    "\n",
    "upperlower('The quick Brown Fox')"
   ]
  },
  {
   "cell_type": "code",
   "execution_count": null,
   "id": "301c687a",
   "metadata": {},
   "outputs": [],
   "source": [
    "d"
   ]
  },
  {
   "cell_type": "markdown",
   "id": "f9d6a8c2",
   "metadata": {},
   "source": [
    "6.Write a Python function that takes a list and returns a new list with distinct elements from the first list.\n",
    "Sample List : [1,2,3,3,3,3,4,5]\n"
   ]
  },
  {
   "cell_type": "code",
   "execution_count": null,
   "id": "82a18dce",
   "metadata": {},
   "outputs": [],
   "source": [
    "def unique(L1):\n",
    "    x = []\n",
    "    for i in L1:\n",
    "        if i not in x:\n",
    "            x.append(i)\n",
    "    return x\n",
    "\n",
    "print(unique([1,2,3,3,3,3,4,5])) "
   ]
  },
  {
   "cell_type": "markdown",
   "id": "8f0f3be3",
   "metadata": {},
   "source": [
    "7.\tWrite a Python function that takes a number as a parameter and checks whether the number is prime or not."
   ]
  },
  {
   "cell_type": "code",
   "execution_count": null,
   "id": "a068d9d4",
   "metadata": {},
   "outputs": [],
   "source": [
    "def test_prime(n):\n",
    "    if (n==1):\n",
    "        return False\n",
    "    elif (n==2):\n",
    "        return True;\n",
    "    else:\n",
    "        for i in range(2,n):\n",
    "            if(n % i==0):\n",
    "                return False\n",
    "        return True\n",
    "n=int(input(\"no\"))\n",
    "print(test_prime(n))"
   ]
  },
  {
   "cell_type": "markdown",
   "id": "a0c0ec77",
   "metadata": {},
   "source": [
    "8.\tWrite a Python function to check whether a number is \"Perfect\" or not."
   ]
  },
  {
   "cell_type": "code",
   "execution_count": null,
   "id": "257035c3",
   "metadata": {
    "scrolled": true
   },
   "outputs": [],
   "source": [
    "def perfect_number(n):\n",
    "    sum = 0\n",
    "    \n",
    "    for i in range(1, n):\n",
    "        if n % i == 0:\n",
    "            sum += i\n",
    "            \n",
    "    return sum == n\n",
    "print(perfect_number(6))\n"
   ]
  },
  {
   "cell_type": "markdown",
   "id": "5c674a80",
   "metadata": {},
   "source": [
    "9.Write a Python function that checks whether a passed string is a palindrome or not."
   ]
  },
  {
   "cell_type": "code",
   "execution_count": null,
   "id": "8b951c3a",
   "metadata": {},
   "outputs": [],
   "source": [
    "#Define a function \n",
    "def isPalindrome(str1): \n",
    "    if (str1 == str1[::-1]) : \n",
    "        return \"The string is a palindrome.\" \n",
    "    else: \n",
    "        return \"The string is not a palindrome.\" \n",
    " \n",
    "#Enter input string \n",
    "str1 = input (\"Enter string: \") \n",
    " \n",
    "print(isPalindrome(str1)) "
   ]
  },
  {
   "cell_type": "markdown",
   "id": "61a2e8c3",
   "metadata": {},
   "source": [
    "10.\tWrite a Python function to check whether a string is a pangram or not."
   ]
  },
  {
   "cell_type": "code",
   "execution_count": null,
   "id": "8ad9b831",
   "metadata": {},
   "outputs": [],
   "source": [
    "import string, sys\n",
    "def ispangram(str1, alphabet=string.ascii_lowercase):\n",
    "    alphaset = set(alphabet)\n",
    "    return alphaset <= set(str1.lower())\n",
    " \n",
    "print ( ispangram('The quick brown fox jumps over the lazy dog')) "
   ]
  },
  {
   "cell_type": "markdown",
   "id": "6d56ad4a",
   "metadata": {},
   "source": [
    "11.\tWrite a Python program that accepts a hyphen-separated sequence of words as input and prints the words in a hyphen-separated sequence after sorting them alphabetically.\n",
    "Sample Items : green-red-yellow-black-white"
   ]
  },
  {
   "cell_type": "code",
   "execution_count": null,
   "id": "109c3671",
   "metadata": {},
   "outputs": [],
   "source": [
    "items=[n for n in input().split('-')]\n",
    "items.sort()\n",
    "print('-'.join(items))"
   ]
  },
  {
   "cell_type": "code",
   "execution_count": null,
   "id": "a5c4233c",
   "metadata": {},
   "outputs": [],
   "source": []
  }
 ],
 "metadata": {
  "kernelspec": {
   "display_name": "Python 3 (ipykernel)",
   "language": "python",
   "name": "python3"
  },
  "language_info": {
   "codemirror_mode": {
    "name": "ipython",
    "version": 3
   },
   "file_extension": ".py",
   "mimetype": "text/x-python",
   "name": "python",
   "nbconvert_exporter": "python",
   "pygments_lexer": "ipython3",
   "version": "3.9.13"
  }
 },
 "nbformat": 4,
 "nbformat_minor": 5
}
